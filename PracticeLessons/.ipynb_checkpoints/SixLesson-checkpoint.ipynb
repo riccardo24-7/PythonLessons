{
 "cells": [
  {
   "cell_type": "code",
   "execution_count": 1,
   "id": "caa6922c",
   "metadata": {},
   "outputs": [],
   "source": [
    "class ClassName:\n",
    "    'Краткое описание класса (необязательно)'\n",
    "#   Код"
   ]
  },
  {
   "cell_type": "code",
   "execution_count": 10,
   "id": "cc898d44",
   "metadata": {},
   "outputs": [],
   "source": [
    "class Rectangle:\n",
    "    'Class of rectangle'\n",
    "    def __init__(self, width, height, test = \"test\"):\n",
    "        self.width = width\n",
    "        self.height = height\n",
    "        self.test = test\n",
    "        \n",
    "    def getHeight(self):\n",
    "        return self.height\n",
    "    def getWidth(self):\n",
    "        return self.width\n",
    "    \n",
    "    def getArea(self):\n",
    "        return self.width * self.height\n",
    "    def getTest(self):\n",
    "        print(self.test)"
   ]
  },
  {
   "cell_type": "code",
   "execution_count": 13,
   "id": "fe448ebc",
   "metadata": {},
   "outputs": [
    {
     "data": {
      "text/plain": [
       "5"
      ]
     },
     "execution_count": 13,
     "metadata": {},
     "output_type": "execute_result"
    }
   ],
   "source": [
    "r1 = Rectangle(10,5)\n",
    "r1.getHeight()"
   ]
  },
  {
   "cell_type": "code",
   "execution_count": 14,
   "id": "da831a8f",
   "metadata": {},
   "outputs": [
    {
     "name": "stdout",
     "output_type": "stream",
     "text": [
      "test\n"
     ]
    }
   ],
   "source": [
    "r1.getTest()"
   ]
  },
  {
   "cell_type": "markdown",
   "id": "37e703ae",
   "metadata": {},
   "source": [
    "у класса м/б специальные непривязанные методы которые помечаются @classmethod. У них первый метод это cls\n",
    "\n",
    "Декоратор позволяет изменять поведение функции"
   ]
  },
  {
   "cell_type": "code",
   "execution_count": 15,
   "id": "e9aff46c",
   "metadata": {},
   "outputs": [],
   "source": [
    "class User:\n",
    "    pass"
   ]
  },
  {
   "cell_type": "code",
   "execution_count": 16,
   "id": "0fa294a0",
   "metadata": {},
   "outputs": [],
   "source": [
    "user1 = User()"
   ]
  },
  {
   "cell_type": "code",
   "execution_count": 19,
   "id": "936a640d",
   "metadata": {},
   "outputs": [],
   "source": [
    "user1.dva = 'dva'\n",
    "user1.tri = \"tri\""
   ]
  },
  {
   "cell_type": "code",
   "execution_count": 20,
   "id": "c5770cef",
   "metadata": {},
   "outputs": [
    {
     "name": "stdout",
     "output_type": "stream",
     "text": [
      "dvatri\n"
     ]
    }
   ],
   "source": [
    "print(user1.dva + user1.tri)"
   ]
  },
  {
   "cell_type": "code",
   "execution_count": 21,
   "id": "b86a3d28",
   "metadata": {},
   "outputs": [],
   "source": [
    "class Sotrudnik:\n",
    "    zarplata = 50000\n",
    "    def adder(razmer_prem):\n",
    "        return zarplata + razmer_prem"
   ]
  },
  {
   "cell_type": "code",
   "execution_count": 23,
   "id": "188e2eb3",
   "metadata": {},
   "outputs": [],
   "source": [
    "Petya = Sotrudnik()"
   ]
  },
  {
   "cell_type": "code",
   "execution_count": 24,
   "id": "d6dbadb5",
   "metadata": {},
   "outputs": [
    {
     "data": {
      "text/plain": [
       "50000"
      ]
     },
     "execution_count": 24,
     "metadata": {},
     "output_type": "execute_result"
    }
   ],
   "source": [
    "Petya.zarplata"
   ]
  },
  {
   "cell_type": "code",
   "execution_count": 25,
   "id": "2695b620",
   "metadata": {},
   "outputs": [
    {
     "ename": "TypeError",
     "evalue": "adder() takes 1 positional argument but 2 were given",
     "output_type": "error",
     "traceback": [
      "\u001b[0;31m---------------------------------------------------------------------------\u001b[0m",
      "\u001b[0;31mTypeError\u001b[0m                                 Traceback (most recent call last)",
      "\u001b[0;32m/tmp/ipykernel_6502/6849395.py\u001b[0m in \u001b[0;36m<module>\u001b[0;34m\u001b[0m\n\u001b[0;32m----> 1\u001b[0;31m \u001b[0mPetya\u001b[0m\u001b[0;34m.\u001b[0m\u001b[0madder\u001b[0m\u001b[0;34m(\u001b[0m\u001b[0;36m2000\u001b[0m\u001b[0;34m)\u001b[0m\u001b[0;34m\u001b[0m\u001b[0;34m\u001b[0m\u001b[0m\n\u001b[0m",
      "\u001b[0;31mTypeError\u001b[0m: adder() takes 1 positional argument but 2 were given"
     ]
    }
   ],
   "source": [
    "Petya.adder(2000)"
   ]
  },
  {
   "cell_type": "code",
   "execution_count": 26,
   "id": "2efb3c5d",
   "metadata": {},
   "outputs": [],
   "source": [
    "class Sotrudnik:\n",
    "    zarplata = 50000\n",
    "    def adder(self, razmer_prem):\n",
    "        return self.zarplata + razmer_prem"
   ]
  },
  {
   "cell_type": "code",
   "execution_count": 27,
   "id": "d0c5d365",
   "metadata": {},
   "outputs": [],
   "source": [
    "Petya = Sotrudnik()"
   ]
  },
  {
   "cell_type": "code",
   "execution_count": 28,
   "id": "60cde3cb",
   "metadata": {},
   "outputs": [
    {
     "data": {
      "text/plain": [
       "55000"
      ]
     },
     "execution_count": 28,
     "metadata": {},
     "output_type": "execute_result"
    }
   ],
   "source": [
    "Petya.adder(5000)"
   ]
  },
  {
   "cell_type": "code",
   "execution_count": 29,
   "id": "e9918b27",
   "metadata": {},
   "outputs": [],
   "source": [
    "vasya = Sotrudnik()"
   ]
  },
  {
   "cell_type": "code",
   "execution_count": 30,
   "id": "9a439e00",
   "metadata": {},
   "outputs": [
    {
     "data": {
      "text/plain": [
       "True"
      ]
     },
     "execution_count": 30,
     "metadata": {},
     "output_type": "execute_result"
    }
   ],
   "source": [
    "vasya.zarplata is Petya.zarplata"
   ]
  },
  {
   "cell_type": "markdown",
   "id": "7592546a",
   "metadata": {},
   "source": [
    "функция является объектами первого класса;"
   ]
  },
  {
   "cell_type": "code",
   "execution_count": 31,
   "id": "a18908b2",
   "metadata": {},
   "outputs": [],
   "source": [
    "def shalom_world():\n",
    "    print(\"hello world\")"
   ]
  },
  {
   "cell_type": "code",
   "execution_count": 32,
   "id": "418411df",
   "metadata": {},
   "outputs": [
    {
     "name": "stdout",
     "output_type": "stream",
     "text": [
      "hello world\n"
     ]
    }
   ],
   "source": [
    "privet = shalom_world()\n",
    "privet"
   ]
  },
  {
   "cell_type": "code",
   "execution_count": 34,
   "id": "2e4c47a6",
   "metadata": {},
   "outputs": [
    {
     "name": "stdout",
     "output_type": "stream",
     "text": [
      "Collecting requests\n",
      "  Downloading requests-2.26.0-py2.py3-none-any.whl (62 kB)\n",
      "     |████████████████████████████████| 62 kB 441 kB/s            \n",
      "\u001b[?25hCollecting certifi>=2017.4.17\n",
      "  Downloading certifi-2021.10.8-py2.py3-none-any.whl (149 kB)\n",
      "     |████████████████████████████████| 149 kB 3.2 MB/s            \n",
      "\u001b[?25hCollecting urllib3<1.27,>=1.21.1\n",
      "  Downloading urllib3-1.26.7-py2.py3-none-any.whl (138 kB)\n",
      "     |████████████████████████████████| 138 kB 15.6 MB/s            \n",
      "\u001b[?25hCollecting charset-normalizer~=2.0.0\n",
      "  Downloading charset_normalizer-2.0.9-py3-none-any.whl (39 kB)\n",
      "Collecting idna<4,>=2.5\n",
      "  Downloading idna-3.3-py3-none-any.whl (61 kB)\n",
      "     |████████████████████████████████| 61 kB 7.0 MB/s             \n",
      "\u001b[?25hInstalling collected packages: urllib3, idna, charset-normalizer, certifi, requests\n",
      "Successfully installed certifi-2021.10.8 charset-normalizer-2.0.9 idna-3.3 requests-2.26.0 urllib3-1.26.7\n"
     ]
    }
   ],
   "source": [
    "!pip install requests"
   ]
  },
  {
   "cell_type": "code",
   "execution_count": null,
   "id": "d53ce15d",
   "metadata": {},
   "outputs": [],
   "source": []
  }
 ],
 "metadata": {
  "kernelspec": {
   "display_name": "Python 3 (ipykernel)",
   "language": "python",
   "name": "python3"
  },
  "language_info": {
   "codemirror_mode": {
    "name": "ipython",
    "version": 3
   },
   "file_extension": ".py",
   "mimetype": "text/x-python",
   "name": "python",
   "nbconvert_exporter": "python",
   "pygments_lexer": "ipython3",
   "version": "3.8.10"
  }
 },
 "nbformat": 4,
 "nbformat_minor": 5
}
