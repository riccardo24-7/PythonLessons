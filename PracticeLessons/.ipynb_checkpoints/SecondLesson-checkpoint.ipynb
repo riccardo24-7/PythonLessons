{
 "cells": [
  {
   "cell_type": "code",
   "execution_count": 1,
   "id": "8f1e19c5",
   "metadata": {},
   "outputs": [],
   "source": [
    "x = 5\n",
    "y = 10"
   ]
  },
  {
   "cell_type": "code",
   "execution_count": 4,
   "id": "029fa557",
   "metadata": {},
   "outputs": [
    {
     "name": "stdout",
     "output_type": "stream",
     "text": [
      "Это х:10\n",
      "Это у:5\n"
     ]
    }
   ],
   "source": [
    "x,y = y,x\n",
    "print(f'Это х:{x}')\n",
    "print(f'Это у:{y}')"
   ]
  },
  {
   "cell_type": "code",
   "execution_count": 5,
   "id": "d743c61d",
   "metadata": {},
   "outputs": [
    {
     "name": "stdout",
     "output_type": "stream",
     "text": [
      "10 5\n"
     ]
    }
   ],
   "source": [
    "print(x,y)"
   ]
  },
  {
   "cell_type": "code",
   "execution_count": 10,
   "id": "d3abd744",
   "metadata": {},
   "outputs": [
    {
     "name": "stdout",
     "output_type": "stream",
     "text": [
      "10$5_test"
     ]
    }
   ],
   "source": [
    "print(x,y, sep='$', end='_test')"
   ]
  },
  {
   "cell_type": "code",
   "execution_count": 11,
   "id": "abbf083a",
   "metadata": {},
   "outputs": [
    {
     "data": {
      "text/plain": [
       "2"
      ]
     },
     "execution_count": 11,
     "metadata": {},
     "output_type": "execute_result"
    }
   ],
   "source": [
    "round(1.5)"
   ]
  },
  {
   "cell_type": "code",
   "execution_count": 12,
   "id": "c2637b4f",
   "metadata": {},
   "outputs": [
    {
     "data": {
      "text/plain": [
       "2"
      ]
     },
     "execution_count": 12,
     "metadata": {},
     "output_type": "execute_result"
    }
   ],
   "source": [
    "abs(-2)"
   ]
  },
  {
   "cell_type": "code",
   "execution_count": 17,
   "id": "670f6dca",
   "metadata": {
    "scrolled": true
   },
   "outputs": [
    {
     "name": "stdout",
     "output_type": "stream",
     "text": [
      "Введите целое число 1245\n",
      "<class 'int'>\n",
      "Значение а: 1245\n"
     ]
    }
   ],
   "source": [
    "a = int(input(\"Введите целое число \"))\n",
    "print(type(a))\n",
    "print(f'Значение а: {a}')"
   ]
  },
  {
   "cell_type": "code",
   "execution_count": 20,
   "id": "1f95f6af",
   "metadata": {},
   "outputs": [
    {
     "data": {
      "text/plain": [
       "5"
      ]
     },
     "execution_count": 20,
     "metadata": {},
     "output_type": "execute_result"
    }
   ],
   "source": [
    "a = 5.6\n",
    "float(a)"
   ]
  },
  {
   "cell_type": "code",
   "execution_count": 21,
   "id": "0879e0a0",
   "metadata": {},
   "outputs": [
    {
     "data": {
      "text/plain": [
       "5"
      ]
     },
     "execution_count": 21,
     "metadata": {},
     "output_type": "execute_result"
    }
   ],
   "source": [
    "int(a)"
   ]
  },
  {
   "cell_type": "code",
   "execution_count": 22,
   "id": "1d220088",
   "metadata": {},
   "outputs": [
    {
     "name": "stdout",
     "output_type": "stream",
     "text": [
      "Результат вычисления: 10\n"
     ]
    }
   ],
   "source": [
    "text = \"Результат вычисления\"\n",
    "res = 10\n",
    "\n",
    "print(text + \": \" + str(res))"
   ]
  },
  {
   "cell_type": "code",
   "execution_count": 23,
   "id": "6241c3da",
   "metadata": {},
   "outputs": [
    {
     "name": "stdout",
     "output_type": "stream",
     "text": [
      "Number 4\n",
      "False\n"
     ]
    }
   ],
   "source": [
    "a = int(input(\"Number \"))\n",
    "print(a > 5)"
   ]
  },
  {
   "cell_type": "code",
   "execution_count": 27,
   "id": "6b5aed22",
   "metadata": {},
   "outputs": [
    {
     "name": "stdout",
     "output_type": "stream",
     "text": [
      "Введен какой-то бред\n"
     ]
    }
   ],
   "source": [
    "a = 2\n",
    "b = 4\n",
    "\n",
    "if a < 2:\n",
    "    print(\"А меньше 2 (но не равно)\")\n",
    "elif b > 5:\n",
    "    print(\"А больше 4\")\n",
    "else:\n",
    "    print(\"Введен какой-то бред\")\n",
    "        "
   ]
  },
  {
   "cell_type": "code",
   "execution_count": 28,
   "id": "00867f14",
   "metadata": {},
   "outputs": [
    {
     "name": "stdout",
     "output_type": "stream",
     "text": [
      "Число а 2\n",
      "Число б 0\n",
      "Деление на ноль невозможно\n",
      "Попробуйте еще раз ввести число б 2\n",
      "1.0\n"
     ]
    }
   ],
   "source": [
    "a = int(input(\"Число а \"))\n",
    "b = int(input(\"Число б \"))\n",
    "if b != 0:\n",
    "    print(a / b)\n",
    "else:\n",
    "    print(\"Деление на ноль невозможно\")\n",
    "    b = int(input(\"Попробуйте еще раз ввести число б \"))\n",
    "    if b == 0:\n",
    "        print(\"Idiot\")\n",
    "    else:\n",
    "        print(a / b)"
   ]
  },
  {
   "cell_type": "code",
   "execution_count": 34,
   "id": "7535ac3f",
   "metadata": {},
   "outputs": [
    {
     "name": "stdout",
     "output_type": "stream",
     "text": [
      "Адын\n"
     ]
    }
   ],
   "source": [
    "x = 1\n",
    "my_var = \"Адын\" if x == 1 else \"Не Адын\"\n",
    "print(my_var)"
   ]
  },
  {
   "cell_type": "code",
   "execution_count": 36,
   "id": "125d9947",
   "metadata": {},
   "outputs": [
    {
     "name": "stdout",
     "output_type": "stream",
     "text": [
      "7\n"
     ]
    }
   ],
   "source": [
    "# Ищем наибольшее число из двух\n",
    "a = 4\n",
    "b = 7\n",
    "m = a\n",
    "if b > a:\n",
    "    m = b\n",
    "print(m)"
   ]
  },
  {
   "cell_type": "code",
   "execution_count": 39,
   "id": "38171dd0",
   "metadata": {},
   "outputs": [
    {
     "name": "stdout",
     "output_type": "stream",
     "text": [
      "Uno\n",
      "Dos\n",
      "Uno$Dos\n",
      "Venos\n",
      "Cateres\n",
      "Venos$Cateres\n"
     ]
    }
   ],
   "source": [
    "# Практика 1\n",
    "print(input(), input(), sep='$')\n",
    "UserInput1 = input()\n",
    "UserInput2 = input()\n",
    "print(UserInput1 + \"$\" + UserInput2)"
   ]
  },
  {
   "cell_type": "code",
   "execution_count": 43,
   "id": "8d39e17d",
   "metadata": {},
   "outputs": [
    {
     "name": "stdout",
     "output_type": "stream",
     "text": [
      "Имя именника: Rick\n",
      "Возвраст именника: 21\n",
      "С днем рождения, Rick\n",
      "С днем рождения, Rick\n",
      "С днем рождения, Rick\n",
      "С днем рождения, Rick\n",
      "С днем рождения, Rick\n",
      "С днем рождения, Rick\n",
      "С днем рождения, Rick\n",
      "С днем рождения, Rick\n",
      "С днем рождения, Rick\n",
      "С днем рождения, Rick\n",
      "С днем рождения, Rick\n",
      "С днем рождения, Rick\n",
      "С днем рождения, Rick\n",
      "С днем рождения, Rick\n",
      "С днем рождения, Rick\n",
      "С днем рождения, Rick\n",
      "С днем рождения, Rick\n",
      "С днем рождения, Rick\n",
      "С днем рождения, Rick\n",
      "С днем рождения, Rick\n",
      "С днем рождения, Rick\n"
     ]
    }
   ],
   "source": [
    "# Практика 2\n",
    "NameInput = input(\"Имя именника: \")\n",
    "AgeInput = int(input(\"Возвраст именника: \"))\n",
    "counter = 0\n",
    "if AgeInput != 0:\n",
    "    while counter < AgeInput:\n",
    "        print(f'С днем рождения, {NameInput}')\n",
    "        counter += 1\n",
    "else:\n",
    "    print(\"Он еще не родился?\")"
   ]
  },
  {
   "cell_type": "code",
   "execution_count": 48,
   "id": "4dce3a3e",
   "metadata": {},
   "outputs": [
    {
     "name": "stdout",
     "output_type": "stream",
     "text": [
      "Введите имя rich\n",
      "Введите возраст 24\n",
      "С Днем Рождения, richС Днем Рождения, richС Днем Рождения, richС Днем Рождения, richС Днем Рождения, richС Днем Рождения, richС Днем Рождения, richС Днем Рождения, richС Днем Рождения, richС Днем Рождения, richС Днем Рождения, richС Днем Рождения, richС Днем Рождения, richС Днем Рождения, richС Днем Рождения, richС Днем Рождения, richС Днем Рождения, richС Днем Рождения, richС Днем Рождения, richС Днем Рождения, richС Днем Рождения, richС Днем Рождения, richС Днем Рождения, richС Днем Рождения, rich\n"
     ]
    }
   ],
   "source": [
    "#Практика 2 (версия 2)\n",
    "name = input('Введите имя ')\n",
    "age = int(input('Введите возраст '))\n",
    "print(age * ('С Днем Рождения, ' + name))"
   ]
  },
  {
   "cell_type": "code",
   "execution_count": null,
   "id": "96cebeb7",
   "metadata": {},
   "outputs": [],
   "source": []
  }
 ],
 "metadata": {
  "kernelspec": {
   "display_name": "Python 3 (ipykernel)",
   "language": "python",
   "name": "python3"
  },
  "language_info": {
   "codemirror_mode": {
    "name": "ipython",
    "version": 3
   },
   "file_extension": ".py",
   "mimetype": "text/x-python",
   "name": "python",
   "nbconvert_exporter": "python",
   "pygments_lexer": "ipython3",
   "version": "3.8.10"
  }
 },
 "nbformat": 4,
 "nbformat_minor": 5
}
