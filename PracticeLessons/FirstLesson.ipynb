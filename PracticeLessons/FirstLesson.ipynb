{
 "cells": [
  {
   "cell_type": "code",
   "execution_count": 1,
   "id": "601f6bda",
   "metadata": {},
   "outputs": [
    {
     "data": {
      "text/plain": [
       "1"
      ]
     },
     "execution_count": 1,
     "metadata": {},
     "output_type": "execute_result"
    }
   ],
   "source": [
    "77%2"
   ]
  },
  {
   "cell_type": "code",
   "execution_count": 2,
   "id": "a089d5c2",
   "metadata": {},
   "outputs": [
    {
     "name": "stdout",
     "output_type": "stream",
     "text": [
      "Четное\n"
     ]
    }
   ],
   "source": [
    "if 22%2==0:\n",
    "    print(\"Четное\")\n",
    "else:\n",
    "    print(\"Не четное\")"
   ]
  },
  {
   "cell_type": "code",
   "execution_count": 3,
   "id": "20fa6c4d",
   "metadata": {},
   "outputs": [
    {
     "data": {
      "text/plain": [
       "34792782221696"
      ]
     },
     "execution_count": 3,
     "metadata": {},
     "output_type": "execute_result"
    }
   ],
   "source": [
    "86**7"
   ]
  },
  {
   "cell_type": "code",
   "execution_count": 6,
   "id": "f7876e79",
   "metadata": {},
   "outputs": [
    {
     "name": "stdout",
     "output_type": "stream",
     "text": [
      "first 1920.0\n",
      "second 1920.0\n"
     ]
    }
   ],
   "source": [
    "a = 3686400**(1/2)\n",
    "\n",
    "import math\n",
    "b = math.sqrt(3686400)\n",
    "print(f'first {a}')\n",
    "print(f'second {b}')"
   ]
  },
  {
   "cell_type": "code",
   "execution_count": null,
   "id": "e2ee11e7",
   "metadata": {},
   "outputs": [],
   "source": []
  }
 ],
 "metadata": {
  "kernelspec": {
   "display_name": "Python 3 (ipykernel)",
   "language": "python",
   "name": "python3"
  },
  "language_info": {
   "codemirror_mode": {
    "name": "ipython",
    "version": 3
   },
   "file_extension": ".py",
   "mimetype": "text/x-python",
   "name": "python",
   "nbconvert_exporter": "python",
   "pygments_lexer": "ipython3",
   "version": "3.8.10"
  }
 },
 "nbformat": 4,
 "nbformat_minor": 5
}
