{
 "cells": [
  {
   "cell_type": "code",
   "execution_count": 1,
   "id": "540b26f8",
   "metadata": {},
   "outputs": [
    {
     "ename": "FileNotFoundError",
     "evalue": "[Errno 2] No such file or directory: 'text.txt'",
     "output_type": "error",
     "traceback": [
      "\u001b[0;31m---------------------------------------------------------------------------\u001b[0m",
      "\u001b[0;31mFileNotFoundError\u001b[0m                         Traceback (most recent call last)",
      "\u001b[0;32m/tmp/ipykernel_12879/2070025038.py\u001b[0m in \u001b[0;36m<module>\u001b[0;34m\u001b[0m\n\u001b[0;32m----> 1\u001b[0;31m \u001b[0mf\u001b[0m \u001b[0;34m=\u001b[0m \u001b[0mopen\u001b[0m\u001b[0;34m(\u001b[0m\u001b[0;34m'text.txt'\u001b[0m\u001b[0;34m,\u001b[0m \u001b[0;34m'r'\u001b[0m\u001b[0;34m)\u001b[0m \u001b[0;31m#Открываем файл с именем text.txt для последующего чтения\u001b[0m\u001b[0;34m\u001b[0m\u001b[0;34m\u001b[0m\u001b[0m\n\u001b[0m",
      "\u001b[0;31mFileNotFoundError\u001b[0m: [Errno 2] No such file or directory: 'text.txt'"
     ]
    }
   ],
   "source": [
    "f = open('text.txt', 'r') #Открываем файл с именем text.txt для последующего чтения"
   ]
  },
  {
   "cell_type": "code",
   "execution_count": 3,
   "id": "eb59775b",
   "metadata": {},
   "outputs": [],
   "source": [
    "f = open(\"test.txt\", \"w\")\n",
    "f.write(\"some text\\n\\n\\n\")\n",
    "f.write(\"more strings\")\n",
    "f.close()"
   ]
  },
  {
   "cell_type": "code",
   "execution_count": 4,
   "id": "79dbf153",
   "metadata": {},
   "outputs": [
    {
     "data": {
      "text/plain": [
       "'/home/girder/jupyter/Lessons/MISIS_PythonLessons/notebooks/PracticeLessons'"
      ]
     },
     "execution_count": 4,
     "metadata": {},
     "output_type": "execute_result"
    }
   ],
   "source": [
    "pwd"
   ]
  },
  {
   "cell_type": "code",
   "execution_count": 5,
   "id": "883519f3",
   "metadata": {},
   "outputs": [
    {
     "name": "stdout",
     "output_type": "stream",
     "text": [
      "some text\r\n",
      "\r\n",
      "\r\n",
      "more strings"
     ]
    }
   ],
   "source": [
    "!cat \"test.txt\""
   ]
  },
  {
   "cell_type": "code",
   "execution_count": 6,
   "id": "e9acb853",
   "metadata": {},
   "outputs": [],
   "source": [
    "with open(\"some_text.txt\", \"w\") as fp:\n",
    "    fp.write(\"Textttt\")\n",
    "    print(\"эта строка без переноса\", file=fp)"
   ]
  },
  {
   "cell_type": "code",
   "execution_count": 7,
   "id": "a15e9626",
   "metadata": {},
   "outputs": [
    {
     "name": "stdout",
     "output_type": "stream",
     "text": [
      "Texttttэта строка без переноса\r\n"
     ]
    }
   ],
   "source": [
    "!cat \"some_text.txt\""
   ]
  },
  {
   "cell_type": "code",
   "execution_count": 13,
   "id": "41c3cc59",
   "metadata": {},
   "outputs": [
    {
     "data": {
      "text/plain": [
       "'Texttttэта строка без переноса\\n'"
      ]
     },
     "execution_count": 13,
     "metadata": {},
     "output_type": "execute_result"
    }
   ],
   "source": [
    "f = open('some_text.txt', 'r', encoding=\"utf-8\")\n",
    "text = f.read()\n",
    "f.close()\n",
    "text"
   ]
  },
  {
   "cell_type": "code",
   "execution_count": 16,
   "id": "e40a0c6d",
   "metadata": {},
   "outputs": [
    {
     "name": "stdout",
     "output_type": "stream",
     "text": [
      " Введите любое существующее имя файла: \\ n test.txt\n",
      "Файл открыт для чтения.\n"
     ]
    }
   ],
   "source": [
    "# Импортировать модуль os для проверки существования файла\n",
    "import os\n",
    "# Функция Drfine проверяет, закрыт ли файл или нет\n",
    "def check_closed():\n",
    "    if fileHandler.closed == False:\n",
    "# Распечатать сообщение об успешном завершении\n",
    "        print(\"Файл открыт для чтения.\")\n",
    "    else:\n",
    "# Распечатать сообщение об ошибке\n",
    "        print(\" Файл закрыт.\")\n",
    "\n",
    "# Взять имя файла для проверки\n",
    "filename = input(\" Введите любое существующее имя файла: \\ n \")\n",
    "# Проверить, существует\n",
    "if os.path.exists(filename):\n",
    "# Открыть файл для чтения\n",
    "    fileHandler = open(filename, \"r\")\n",
    "# Вызвать функцию\n",
    "    check_closed()\n",
    "else:\n",
    "    # Вывести сообщение, если файл не существует\n",
    "    print(\"Файл не существует.\")"
   ]
  },
  {
   "cell_type": "code",
   "execution_count": 15,
   "id": "17483be8",
   "metadata": {},
   "outputs": [],
   "source": [
    "f.close()"
   ]
  },
  {
   "cell_type": "code",
   "execution_count": 17,
   "id": "ecc0e03e",
   "metadata": {},
   "outputs": [
    {
     "data": {
      "text/plain": [
       "'Texttttэта строка без переноса\\n'"
      ]
     },
     "execution_count": 17,
     "metadata": {},
     "output_type": "execute_result"
    }
   ],
   "source": [
    "text"
   ]
  },
  {
   "cell_type": "code",
   "execution_count": 19,
   "id": "881d0f4e",
   "metadata": {},
   "outputs": [
    {
     "data": {
      "text/plain": [
       "12.0"
      ]
     },
     "execution_count": 19,
     "metadata": {},
     "output_type": "execute_result"
    }
   ],
   "source": [
    "from math import sqrt\n",
    "\n",
    "sqrt(144)"
   ]
  },
  {
   "cell_type": "code",
   "execution_count": null,
   "id": "d17fa29a",
   "metadata": {},
   "outputs": [],
   "source": []
  }
 ],
 "metadata": {
  "kernelspec": {
   "display_name": "Python 3 (ipykernel)",
   "language": "python",
   "name": "python3"
  },
  "language_info": {
   "codemirror_mode": {
    "name": "ipython",
    "version": 3
   },
   "file_extension": ".py",
   "mimetype": "text/x-python",
   "name": "python",
   "nbconvert_exporter": "python",
   "pygments_lexer": "ipython3",
   "version": "3.8.10"
  }
 },
 "nbformat": 4,
 "nbformat_minor": 5
}
