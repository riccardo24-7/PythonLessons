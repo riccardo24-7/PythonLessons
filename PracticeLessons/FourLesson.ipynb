{
 "cells": [
  {
   "cell_type": "code",
   "execution_count": 16,
   "id": "0a1354b0",
   "metadata": {},
   "outputs": [
    {
     "name": "stdout",
     "output_type": "stream",
     "text": [
      "Введите название файла и расширение через точку srgr.tgrt\n",
      "Неверное расширение файла: tgrt\n"
     ]
    }
   ],
   "source": [
    "stroka = input(\"Введите название файла и расширение через точку \")\n",
    "arrExtensions = [\"png\", \"jpg\", \"jpeg\", \"gif\", \"py\"]\n",
    "search = stroka.find(\".\")\n",
    "fileExtension = stroka[search+1:]\n",
    "\n",
    "if fileExtension in arrExtensions:\n",
    "    print(f'Расширение файла: {fileExtension}')\n",
    "else:\n",
    "    print(f'Неверное расширение файла: {fileExtension}')"
   ]
  },
  {
   "cell_type": "code",
   "execution_count": 19,
   "id": "8893fa37",
   "metadata": {},
   "outputs": [],
   "source": [
    "def greeting_user(hello = \"Дратути\"):\n",
    "    userInput = input(\"You name: \")\n",
    "    print(hello + \" \" + userInput + \"!\")"
   ]
  },
  {
   "cell_type": "code",
   "execution_count": 20,
   "id": "f4b843b2",
   "metadata": {},
   "outputs": [
    {
     "name": "stdout",
     "output_type": "stream",
     "text": [
      "You name: Rick\n",
      "Дратути Rick!\n"
     ]
    }
   ],
   "source": [
    "greeting_user()"
   ]
  },
  {
   "cell_type": "code",
   "execution_count": 21,
   "id": "a4e3cd96",
   "metadata": {},
   "outputs": [],
   "source": [
    "def empty_func():\n",
    "    pass"
   ]
  },
  {
   "cell_type": "code",
   "execution_count": 26,
   "id": "b4df1f75",
   "metadata": {},
   "outputs": [],
   "source": [
    "empty_func()"
   ]
  },
  {
   "cell_type": "markdown",
   "id": "80a7d724",
   "metadata": {},
   "source": [
    "This function will accept a lot of variables and return tuple"
   ]
  },
  {
   "cell_type": "code",
   "execution_count": 23,
   "id": "4a92c60f",
   "metadata": {},
   "outputs": [],
   "source": [
    "def func_with_args(*args):\n",
    "    return args"
   ]
  },
  {
   "cell_type": "code",
   "execution_count": 25,
   "id": "87838bc6",
   "metadata": {},
   "outputs": [
    {
     "name": "stdout",
     "output_type": "stream",
     "text": [
      "<class 'tuple'>\n",
      "(1, 2, 3, 'abc')\n"
     ]
    }
   ],
   "source": [
    "result = func_with_args(1,2,3,\"abc\")\n",
    "\n",
    "print(type(result))\n",
    "print(result)"
   ]
  },
  {
   "cell_type": "markdown",
   "id": "6d46e6b9",
   "metadata": {},
   "source": [
    "This function will accept a lot of variables and return dictionary"
   ]
  },
  {
   "cell_type": "code",
   "execution_count": 27,
   "id": "06882bfc",
   "metadata": {},
   "outputs": [],
   "source": [
    "def func_with_kwargs(**kwargs):\n",
    "    return kwargs"
   ]
  },
  {
   "cell_type": "code",
   "execution_count": 31,
   "id": "554a5b56",
   "metadata": {},
   "outputs": [
    {
     "name": "stdout",
     "output_type": "stream",
     "text": [
      "<class 'dict'>\n",
      "{'a': 1, 'b': 2, 'c': 3}\n"
     ]
    }
   ],
   "source": [
    "result = func_with_kwargs(a=1, b=2, c=3)\n",
    "print(type(result))\n",
    "print(result)"
   ]
  },
  {
   "cell_type": "code",
   "execution_count": 34,
   "id": "39e24871",
   "metadata": {},
   "outputs": [
    {
     "data": {
      "text/plain": [
       "{'arr': ['1', '2']}"
      ]
     },
     "execution_count": 34,
     "metadata": {},
     "output_type": "execute_result"
    }
   ],
   "source": [
    "listArr = [\"1\", \"2\"]\n",
    "func_with_kwargs(arr = listArr)"
   ]
  },
  {
   "cell_type": "code",
   "execution_count": 39,
   "id": "55e53662",
   "metadata": {},
   "outputs": [
    {
     "data": {
      "text/plain": [
       "{'kaka': 'Test', 'nigga': 'test2'}"
      ]
     },
     "execution_count": 39,
     "metadata": {},
     "output_type": "execute_result"
    }
   ],
   "source": [
    "slov = {}\n",
    "slov[\"kaka\"] = \"Test\"\n",
    "slov[\"nigga\"] = \"test2\"\n",
    "slov"
   ]
  },
  {
   "cell_type": "code",
   "execution_count": 51,
   "id": "9b69a4db",
   "metadata": {},
   "outputs": [
    {
     "name": "stdout",
     "output_type": "stream",
     "text": [
      "Items: ('kaka', 'Test')\n",
      "Items: ('nigga', 'test2')\n",
      "Keys: kaka\n",
      "Keys: nigga\n",
      "Values: Test\n",
      "Values: test2\n",
      "\n",
      "False\n",
      "False\n",
      "True\n"
     ]
    }
   ],
   "source": [
    "for i in slov.items():\n",
    "    print(f'Items: {i}')\n",
    "    \n",
    "for k in slov.keys():\n",
    "    print(f'Keys: {k}')\n",
    "    \n",
    "for v in slov.values():\n",
    "    print(f'Values: {v}')\n",
    "    \n",
    "print()    \n",
    "print(\"Test\" in slov)\n",
    "print(\"Test\" in slov.keys())\n",
    "print(\"Test\" in slov.values())"
   ]
  },
  {
   "cell_type": "code",
   "execution_count": 53,
   "id": "48ea1c4a",
   "metadata": {},
   "outputs": [
    {
     "data": {
      "text/plain": [
       "{'kaka': 'Test', 'nigga': 'test2', 'joker': 'info'}"
      ]
     },
     "execution_count": 53,
     "metadata": {},
     "output_type": "execute_result"
    }
   ],
   "source": [
    "novi_slor = {\n",
    "    \"joker\":\"info\"\n",
    "}\n",
    "slov.update(novi_slor)\n",
    "slov"
   ]
  },
  {
   "cell_type": "code",
   "execution_count": null,
   "id": "6fd300ca",
   "metadata": {},
   "outputs": [],
   "source": []
  }
 ],
 "metadata": {
  "kernelspec": {
   "display_name": "Python 3 (ipykernel)",
   "language": "python",
   "name": "python3"
  },
  "language_info": {
   "codemirror_mode": {
    "name": "ipython",
    "version": 3
   },
   "file_extension": ".py",
   "mimetype": "text/x-python",
   "name": "python",
   "nbconvert_exporter": "python",
   "pygments_lexer": "ipython3",
   "version": "3.8.10"
  }
 },
 "nbformat": 4,
 "nbformat_minor": 5
}
