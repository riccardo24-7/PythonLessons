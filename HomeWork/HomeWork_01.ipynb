{
 "cells": [
  {
   "cell_type": "code",
   "execution_count": 48,
   "id": "739de716",
   "metadata": {},
   "outputs": [
    {
     "name": "stdout",
     "output_type": "stream",
     "text": [
      "Введите количество секунд: 10000\n",
      "0:2:46:40\n"
     ]
    }
   ],
   "source": [
    "# Первое задание\n",
    "# Нужно сделать так, чтобы число секунд отображалось в виде дни:часы:секунды\n",
    "\n",
    "# Код\n",
    "secondsInput = int(input(\"Введите количество секунд: \"))\n",
    "days = secondsInput//(86400)\n",
    "hours = (secondsInput - (days*86400))//3600\n",
    "minutes = ((secondsInput - (days*86400))%3600)//60\n",
    "seconds = (secondsInput - days*86400 - hours*3600 - minutes*60)\n",
    "print(f'{days}:{hours}:{minutes}:{seconds}')"
   ]
  },
  {
   "cell_type": "code",
   "execution_count": 42,
   "id": "cd21e6fb",
   "metadata": {},
   "outputs": [
    {
     "data": {
      "text/plain": [
       "86400"
      ]
     },
     "execution_count": 42,
     "metadata": {},
     "output_type": "execute_result"
    }
   ],
   "source": [
    "24*60*60"
   ]
  },
  {
   "cell_type": "code",
   "execution_count": 66,
   "id": "d886b4e7",
   "metadata": {},
   "outputs": [
    {
     "name": "stdout",
     "output_type": "stream",
     "text": [
      "Введите число a 5\n",
      "Введите число b 3\n",
      "Введите знак для вычисления -\n",
      "2\n"
     ]
    }
   ],
   "source": [
    "# Второе задание\n",
    "# Калькулятор который запрашивает на входе 2 переменные и знак, и в соответствии со знаком выводит результат\n",
    "# Первое значение a, второе значение b. Пример a+b, a-b\n",
    "a = int(input(\"Введите число a \"))\n",
    "b = int(input(\"Введите число b \"))\n",
    "operator = input(\"Введите знак для вычисления \")\n",
    "if operator == \"+\":\n",
    "    print(a+b)\n",
    "elif operator == \"-\":\n",
    "    print(a-b)\n",
    "elif operator == \"*\":\n",
    "    print(a*b)\n",
    "elif operator == \"/\":\n",
    "    if b == 0:\n",
    "        print(\"Делить на ноль нельзя!\")\n",
    "    else:\n",
    "        print(a/b)\n",
    "else:\n",
    "    print(\"К сожалению калькулятор может принимать операторы: (+ - * /)\")"
   ]
  },
  {
   "cell_type": "code",
   "execution_count": null,
   "id": "29641171",
   "metadata": {},
   "outputs": [],
   "source": []
  }
 ],
 "metadata": {
  "kernelspec": {
   "display_name": "Python 3 (ipykernel)",
   "language": "python",
   "name": "python3"
  },
  "language_info": {
   "codemirror_mode": {
    "name": "ipython",
    "version": 3
   },
   "file_extension": ".py",
   "mimetype": "text/x-python",
   "name": "python",
   "nbconvert_exporter": "python",
   "pygments_lexer": "ipython3",
   "version": "3.8.10"
  }
 },
 "nbformat": 4,
 "nbformat_minor": 5
}
