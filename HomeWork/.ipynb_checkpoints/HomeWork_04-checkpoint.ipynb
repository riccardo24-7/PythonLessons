{
 "cells": [
  {
   "cell_type": "code",
   "execution_count": 11,
   "id": "383290b6",
   "metadata": {},
   "outputs": [
    {
     "name": "stdout",
     "output_type": "stream",
     "text": [
      "Средний балл по группе: 3.18\n",
      "Студент Петров И.  в списке отстающих: 3\n",
      "Студент Дмитриев Н.  в списке отстающих: 2\n",
      "Студент Котов Д.  в списке отстающих: 2\n",
      "Студент Бирюкова Н.  в списке отстающих: 1\n",
      "Студент Данилов П.  в списке отстающих: 3\n",
      "Студент Лемонов Ю.  в списке отстающих: 2\n"
     ]
    }
   ],
   "source": [
    "#Задание 1\n",
    "# --------------------\n",
    "# Возможно мои пути решения в дз какие-то сложные, но в полночь лучше мыслей не приходит\n",
    "\n",
    "import os.path\n",
    "\n",
    "pathFirst = 'HW_4/HomeTask1.txt'\n",
    "checkFirst = os.path.isfile(pathFirst)\n",
    "marks = []\n",
    "students = {}\n",
    "\n",
    "def txtDataParse(path):\n",
    "    arrayOfStudents = []\n",
    "    if checkFirst:\n",
    "        with open(path) as fp:\n",
    "            lines = fp.read().split('\\n')\n",
    "            for line in lines:\n",
    "                arrayOfStudents.append(line)\n",
    "    return arrayOfStudents\n",
    "\n",
    "\n",
    "def averageOfList(listOfMarks):\n",
    "    result = 0.0\n",
    "    try:\n",
    "        result = float(sum(listOfMarks)/len(listOfMarks))\n",
    "    except ZeroDivisionError:\n",
    "        print(\"Что-то не так со списком студентов\")\n",
    "    return round(result,2)\n",
    "\n",
    "for student in txtDataParse(pathFirst):\n",
    "    mark = int(student[-1:])\n",
    "    marks.append(mark)\n",
    "    students[student[:-1]] = mark\n",
    "    \n",
    "average = averageOfList(marks) \n",
    "print(f'Средний балл по группе: {average}')\n",
    "for k, v in students.items():\n",
    "    if v <= average:\n",
    "        print(f'Студент {k} в списке отстающих: {v}')\n",
    "        "
   ]
  },
  {
   "cell_type": "code",
   "execution_count": 4,
   "id": "af5448e8",
   "metadata": {},
   "outputs": [
    {
     "name": "stdout",
     "output_type": "stream",
     "text": [
      "Лекций: 2\n",
      "Практических: 3\n",
      "Лабораторных: 2\n"
     ]
    }
   ],
   "source": [
    "#Задание 2\n",
    "# --------------------\n",
    "import os.path\n",
    "\n",
    "pathSecond = 'HW_4/HomeTask2.txt'\n",
    "checkSecond = os.path.isfile(pathSecond)\n",
    "\n",
    "univKindStudy = []\n",
    "lec = 0\n",
    "pract = 0\n",
    "lab = 0\n",
    "\n",
    "def txtDataParseSecond(path):\n",
    "    arrayOfWords = []\n",
    "    if checkSecond:\n",
    "        with open(path) as fp:\n",
    "            lines = fp.read().split('\\n')\n",
    "            for line in lines:\n",
    "                arrayOfWords.append(line)\n",
    "    return arrayOfWords\n",
    "\n",
    "\n",
    "textInFile = txtDataParseSecond(pathSecond)\n",
    "\n",
    "for val in textInFile:\n",
    "#     Убираем табуляцию из списка\n",
    "    if val.startswith('\\t') and val != \" \":\n",
    "#         Режем строку из перебора до первой буквы вида обучения\n",
    "        dis = val[val.find('(')+1:]\n",
    "        kindStudy = dis[:-1]\n",
    "        univKindStudy.append(kindStudy)\n",
    "\n",
    "        \n",
    "lections = [\"лекц.\", \"лек.\", \"лекция\", \"лекционное занятие\"]\n",
    "practices = [\"практ.\", \"пр.\", \"практика\", \"практическое занятие\"]\n",
    "labs = [\"лаб.\", \"л/р.\", \"лабораторка\", \"лабораторная работа\"]\n",
    "\n",
    "for val in univKindStudy:\n",
    "    if val in lections:\n",
    "        lec += 1\n",
    "    elif val in practices:\n",
    "        pract += 1\n",
    "    elif val in labs:\n",
    "        lab += 1\n",
    "    else:\n",
    "        print(\"error\")\n",
    "        \n",
    "print('Лекций:', lec)\n",
    "print('Практических:', pract)\n",
    "print('Лабораторных:', lab)        \n"
   ]
  },
  {
   "cell_type": "markdown",
   "id": "a781ceb5",
   "metadata": {},
   "source": [
    "#Задание 3\n",
    "Готово"
   ]
  },
  {
   "cell_type": "code",
   "execution_count": 7,
   "id": "4469dd69",
   "metadata": {},
   "outputs": [
    {
     "name": "stdout",
     "output_type": "stream",
     "text": [
      "['.ipynb_checkpoints', 'HomeWork_02.ipynb', 'HomeWork_04.ipynb', 'HomeWork_01.ipynb', 'HW_4', 'HomeWork_03.ipynb']\n"
     ]
    }
   ],
   "source": [
    "#Задание 4\n",
    "# --------------------\n",
    "import os\n",
    "\n",
    "pathFour = '../HomeWork'\n",
    "files = os.listdir(pathFour)\n",
    "print(files)"
   ]
  },
  {
   "cell_type": "code",
   "execution_count": 122,
   "id": "5206ceb7",
   "metadata": {},
   "outputs": [
    {
     "name": "stdout",
     "output_type": "stream",
     "text": [
      "Введите фразу Я Рик учусь учусь работаю работаю работаю сплю спаааааааааать, ура\n",
      "Наиболее часто встречающееся слово - работаю\n",
      "Самое длинное слово - спаааааааааать\n"
     ]
    }
   ],
   "source": [
    "from collections import Counter\n",
    "from re import findall\n",
    "import operator\n",
    "\n",
    "def word_count(phrase):\n",
    "    \n",
    "    tokenWords = phrase.split()\n",
    "    tokenDict = dict(Counter(tokenWords))\n",
    "    \n",
    "    mostOccurWord = max(tokenDict.items(), key = operator.itemgetter(1))[0]\n",
    "    print(f'Наиболее часто встречающееся слово - {mostOccurWord}')\n",
    "    \n",
    "    \n",
    "#     \\b - совпадения на пустую строку, но когда это вначале и в конце слова.\n",
    "#  Слова определяются как последовательность символов слова.\n",
    "\n",
    "#     \\w - проверка на то, что символы относятся к Unicode \n",
    "    maxLenKey = max(findall(r\"\\b\\w+\\b\", phrase), key = len) \n",
    "    print(f'Самое длинное слово - {maxLenKey}')\n",
    "        \n",
    "   \n",
    "word_count(input(\"Введите фразу \"))"
   ]
  },
  {
   "cell_type": "markdown",
   "id": "b21a4c33",
   "metadata": {},
   "source": [
    "Я Рик учусь учусь работаю работаю работаю сплю"
   ]
  },
  {
   "cell_type": "code",
   "execution_count": null,
   "id": "17ae9651",
   "metadata": {},
   "outputs": [],
   "source": [
    "# Классные задания, но мне кажется все таки я намудрил"
   ]
  }
 ],
 "metadata": {
  "kernelspec": {
   "display_name": "Python 3 (ipykernel)",
   "language": "python",
   "name": "python3"
  },
  "language_info": {
   "codemirror_mode": {
    "name": "ipython",
    "version": 3
   },
   "file_extension": ".py",
   "mimetype": "text/x-python",
   "name": "python",
   "nbconvert_exporter": "python",
   "pygments_lexer": "ipython3",
   "version": "3.8.10"
  }
 },
 "nbformat": 4,
 "nbformat_minor": 5
}
