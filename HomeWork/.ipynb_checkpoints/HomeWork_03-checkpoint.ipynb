{
 "cells": [
  {
   "cell_type": "code",
   "execution_count": 14,
   "id": "d7271a95",
   "metadata": {},
   "outputs": [
    {
     "name": "stdout",
     "output_type": "stream",
     "text": [
      "Введите число 225\n",
      "Введите число или оставьте пустым 3\n",
      "6.082201995573399\n"
     ]
    }
   ],
   "source": [
    "#Задача 1\n",
    "#----------------------\n",
    "\n",
    "def sqrtFunc(numberSqrt, degree = 2):\n",
    "    return pow(numberSqrt, 1/degree)\n",
    "\n",
    "userNum = int(input(\"Введите число \"))\n",
    "deg = input(\"Введите число или оставьте пустым \")\n",
    "if deg != \"\":\n",
    "    deg = int(deg)\n",
    "    print(sqrtFunc(userNum, deg))\n",
    "else:\n",
    "    print(sqrtFunc(userNum))\n"
   ]
  },
  {
   "cell_type": "code",
   "execution_count": 28,
   "id": "2fa55836",
   "metadata": {},
   "outputs": [
    {
     "name": "stdout",
     "output_type": "stream",
     "text": [
      "Введите полное имя файла homeWork.py\n",
      "Введите список расширений gif py jpg png\n",
      "Файл с расширением: py\n"
     ]
    }
   ],
   "source": [
    "#Задача 2\n",
    "#----------------------\n",
    "\n",
    "def fileExtensionsFunc(fileName, ext):\n",
    "    result = [i for i in ext if fileName.find(i) > 0]\n",
    "    print(f'Файл с расширением: {result[0]}')\n",
    "\n",
    "fileInput = input(\"Введите полное имя файла \")\n",
    "userExt = input(\"Введите список расширений \").split()\n",
    "fileExtensionsFunc(fileInput, userExt)"
   ]
  },
  {
   "cell_type": "code",
   "execution_count": 36,
   "id": "336266f5",
   "metadata": {},
   "outputs": [
    {
     "name": "stdout",
     "output_type": "stream",
     "text": [
      "{1: 10, 2: 20, 3: 30, 4: 40, 5: 50, 6: 60}\n"
     ]
    }
   ],
   "source": [
    "#Задача 3\n",
    "#----------------------\n",
    "\n",
    "resultDict = {}\n",
    "\n",
    "dict_a = {1:10, 2:20}\n",
    "dict_b = {3:30, 4:40}\n",
    "dict_c = {5:50, 6:60}\n",
    "\n",
    "resultDict.update(dict_a)\n",
    "resultDict.update(dict_b)\n",
    "resultDict.update(dict_c)\n",
    "\n",
    "print(resultDict)"
   ]
  },
  {
   "cell_type": "code",
   "execution_count": 47,
   "id": "fdbb0e52",
   "metadata": {},
   "outputs": [
    {
     "name": "stdout",
     "output_type": "stream",
     "text": [
      "Введите число 1234\n",
      "10\n"
     ]
    }
   ],
   "source": [
    "#Задача 4\n",
    "#----------------------\n",
    "\n",
    "def sumNumsInside(num):\n",
    "    resultList = []\n",
    "    result = 0\n",
    "    \n",
    "    while num > 0:\n",
    "        resultList.append(num % 10)\n",
    "        num = num // 10\n",
    "    for i in resultList:\n",
    "        result = result + i\n",
    "    return result\n",
    "        \n",
    "userSumNum = int(input(\"Введите число \"))\n",
    "print(sumNumsInside(userSumNum))"
   ]
  },
  {
   "cell_type": "code",
   "execution_count": 56,
   "id": "79db10de",
   "metadata": {},
   "outputs": [
    {
     "name": "stdout",
     "output_type": "stream",
     "text": [
      "Введите множество числе через пробел 1 2 3 4\n",
      "Есть повторение\n"
     ]
    }
   ],
   "source": [
    "#Задача 5\n",
    "#----------------------\n",
    "\n",
    "userNumInput = [1,4,5]\n",
    "tupleNumb = set(numbers)\n",
    "\n",
    "if len(numbers) == tupleNumb:\n",
    "    print(\"Значения уникальные\")\n",
    "else:\n",
    "    print(\"Есть повторение\")"
   ]
  },
  {
   "cell_type": "code",
   "execution_count": 60,
   "id": "3889216f",
   "metadata": {},
   "outputs": [
    {
     "name": "stdout",
     "output_type": "stream",
     "text": [
      "Номер 0 --> я\n",
      "Номер 1 --> не\n",
      "Номер 2 --> в\n",
      "Номер 3 --> отпуск\n",
      "Номер 0 --> test\n",
      "Номер 1 --> more Tests\n"
     ]
    }
   ],
   "source": [
    "#Задача 6.1\n",
    "#----------------------\n",
    "\n",
    "def print_list(my_list):\n",
    "    for idx, val in enumerate(my_list):\n",
    "        print(f'Номер {idx} --> {val}')\n",
    "\n",
    "print_list([\"я\", \"не\", \"в\", \"отпуск\" ])\n",
    "print_list([\"test\", \"more Tests\" ])"
   ]
  },
  {
   "cell_type": "code",
   "execution_count": 64,
   "id": "d10a8fc2",
   "metadata": {},
   "outputs": [
    {
     "name": "stdout",
     "output_type": "stream",
     "text": [
      "Ключ key1 --> 2\n",
      "Ключ key3 --> False\n",
      "Ключ Приветствие --> Hello\n"
     ]
    }
   ],
   "source": [
    "#Задача 6.2\n",
    "#----------------------\n",
    "\n",
    "def print_dict(my_dict):\n",
    "    for k, v in my_dict.items():\n",
    "        print(f'Ключ {k} --> {v}')\n",
    "\n",
    "print_dict({\"key1\": 2, \"key3\": False, \"Приветствие\": \"Hello\"})"
   ]
  },
  {
   "cell_type": "code",
   "execution_count": 9,
   "id": "840af41c",
   "metadata": {},
   "outputs": [
    {
     "name": "stdout",
     "output_type": "stream",
     "text": [
      "если key1 это DICT  --> 1\n",
      "если key2 это DICT  --> [1, 2, 3, 4]\n",
      "если key3 это DICT  --> Hello\n",
      "если key4 это DICT  --> {'ciao': 'Mondo', 'Привет': 'О дивный мир'}\n",
      "-----\n",
      "если 0 это LIST --> я\n",
      "если 1 это LIST --> не\n",
      "если 2 это LIST --> в\n",
      "если 3 это LIST --> отпуск\n"
     ]
    }
   ],
   "source": [
    "#Задача 6.3\n",
    "#----------------------\n",
    "\n",
    "def print_overlord(mydict):\n",
    "    if isinstance(mydict, dict):\n",
    "        for k, v in mydict.items():\n",
    "            print(f'если {k} это DICT  --> {v}')\n",
    "    elif isinstance(mydict, list):\n",
    "        for idx, val in enumerate(mydict):\n",
    "            print(f'если {idx} это LIST --> {val}')\n",
    "\n",
    "print_overlord(dict(key1=1,\n",
    "            key2=[1, 2, 3, 4], \n",
    "            key3='Hello', \n",
    "            key4={\"ciao\":\"Mondo\", \"Привет\": \"О дивный мир\"}))\n",
    "print(\"-----\")\n",
    "print_overlord([\"я\", \"не\", \"в\", \"отпуск\" ])"
   ]
  },
  {
   "cell_type": "markdown",
   "id": "73868001",
   "metadata": {},
   "source": [
    "1. Создание Телеграмм ботов обращающиеся к API\n",
    "2. Создание API\n",
    "3. Программа с возможностью предугадыванием ситуаций с некой вероятностью (ИИ)"
   ]
  },
  {
   "cell_type": "code",
   "execution_count": 1,
   "id": "6857812b",
   "metadata": {},
   "outputs": [
    {
     "name": "stdout",
     "output_type": "stream",
     "text": [
      "Введите фразу This phrase is so long as you can imagine\n",
      "Word1 - This\n",
      "Word2 - phrase\n",
      "Word3 - is\n",
      "Word4 - so\n",
      "Word5 - long\n",
      "Word6 - as\n",
      "Word7 - you\n",
      "Word8 - can\n",
      "Word9 - imagine\n",
      "Number of words = 9\n"
     ]
    }
   ],
   "source": [
    "#Задача* 1\n",
    "#----------------------\n",
    "\n",
    "def word_count(phrase):\n",
    "    tokenWords = phrase.split()\n",
    "    for idx, token in enumerate(tokenWords):\n",
    "       print(f'Word{idx+1} - {token}')\n",
    "    print(f'Number of words = {len(tokenWords)}')\n",
    "   \n",
    "word_count(input(\"Введите фразу \"))"
   ]
  },
  {
   "cell_type": "markdown",
   "id": "1160f0fe",
   "metadata": {},
   "source": [
    "This phrase is so long as you can imagine"
   ]
  },
  {
   "cell_type": "code",
   "execution_count": 7,
   "id": "042b9cda",
   "metadata": {},
   "outputs": [
    {
     "name": "stdout",
     "output_type": "stream",
     "text": [
      "Введите фразу This phrase is so long as you can imagine\n",
      "Word1 - This\n",
      "Word2 - phrase\n",
      "Word3 - is\n",
      "Word4 - so\n",
      "Word5 - long\n",
      "Word6 - as\n",
      "Word7 - you\n",
      "Word8 - can\n",
      "Word9 - imagine\n",
      "{'This': 11.11, 'phrase': 11.11, 'is': 11.11, 'so': 11.11, 'long': 11.11, 'as': 11.11, 'you': 11.11, 'can': 11.11, 'imagine': 11.11}\n",
      "Number of words = 9\n"
     ]
    }
   ],
   "source": [
    "#Задача* 2\n",
    "#----------------------\n",
    "\n",
    "from collections import Counter\n",
    "\n",
    "def word_count(phrase):\n",
    "    \n",
    "    tokenWords = phrase.split()\n",
    "    tokenDict = dict(Counter(tokenWords))\n",
    "    resultDict = {}\n",
    "    for idx, token in enumerate(tokenWords):\n",
    "        print(f'Word{idx+1} - {token}')\n",
    "        \n",
    "    for k, v in tokenDict.items():\n",
    "        wordProcent = (v/len(tokenWords))*100\n",
    "        resultDict[k] = round(wordProcent, 2)\n",
    "    print(resultDict)\n",
    "        \n",
    "    \n",
    "    \n",
    "    print(f'Number of words = {len(tokenWords)}')\n",
    "   \n",
    "word_count(input(\"Введите фразу \"))"
   ]
  },
  {
   "cell_type": "code",
   "execution_count": null,
   "id": "3ed241bb",
   "metadata": {},
   "outputs": [],
   "source": []
  }
 ],
 "metadata": {
  "kernelspec": {
   "display_name": "Python 3 (ipykernel)",
   "language": "python",
   "name": "python3"
  },
  "language_info": {
   "codemirror_mode": {
    "name": "ipython",
    "version": 3
   },
   "file_extension": ".py",
   "mimetype": "text/x-python",
   "name": "python",
   "nbconvert_exporter": "python",
   "pygments_lexer": "ipython3",
   "version": "3.8.10"
  }
 },
 "nbformat": 4,
 "nbformat_minor": 5
}
