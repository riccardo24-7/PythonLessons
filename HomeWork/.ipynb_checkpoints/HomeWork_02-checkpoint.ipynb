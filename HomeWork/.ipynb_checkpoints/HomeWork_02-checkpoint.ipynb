{
 "cells": [
  {
   "cell_type": "code",
   "execution_count": 37,
   "id": "7b8ce34c",
   "metadata": {},
   "outputs": [
    {
     "name": "stdout",
     "output_type": "stream",
     "text": [
      "Введите номер месяца: 1\n",
      "January\n"
     ]
    }
   ],
   "source": [
    "#Задача 1.1\n",
    "#----------------------\n",
    "\n",
    "userInput = int(input(\"Введите номер месяца: \"))\n",
    "\n",
    "if (userInput <= 0) or (userInput > 12):\n",
    "    print(\"Ты в Солнечной системе живешь?\")\n",
    "    \n",
    "else:\n",
    "    monthNames = [\"January\", \"February\",\"March\",\"April\",\"May\",\n",
    "                  \"June\",\"July\",\"August\",\"September\",\"October\",\n",
    "                  \"November\",\"December\"]\n",
    "    \n",
    "    print(monthNames[userInput-1])"
   ]
  },
  {
   "cell_type": "code",
   "execution_count": 15,
   "id": "fbde6ff2",
   "metadata": {},
   "outputs": [
    {
     "name": "stdout",
     "output_type": "stream",
     "text": [
      "Введите номер месяца: 2\n",
      "Feb\n"
     ]
    }
   ],
   "source": [
    "#Задача 1.2 (для себя)\n",
    "#----------------------\n",
    "\n",
    "import calendar\n",
    "userInput = int(input(\"Введите номер месяца: \"))\n",
    "print(calendar.month_abbr[userInput])"
   ]
  },
  {
   "cell_type": "code",
   "execution_count": 8,
   "id": "1e6de5ea",
   "metadata": {},
   "outputs": [
    {
     "name": "stdout",
     "output_type": "stream",
     "text": [
      "Число 1 = 2017\n",
      "Число 2 = 5\n"
     ]
    },
    {
     "data": {
      "text/plain": [
       "1"
      ]
     },
     "execution_count": 8,
     "metadata": {},
     "output_type": "execute_result"
    }
   ],
   "source": [
    "#Задача 2\n",
    "#----------------------\n",
    "\n",
    "a = int(input(\"Число 1 = \"))\n",
    "b = int(input(\"Число 2 = \"))\n",
    "\n",
    "def gcd(x, y):\n",
    "    while y != 0:\n",
    "        (x, y) = (y, x % y)\n",
    "    return x\n",
    "\n",
    "gcd(a,b)"
   ]
  },
  {
   "cell_type": "code",
   "execution_count": 2,
   "id": "2080c14f",
   "metadata": {},
   "outputs": [
    {
     "name": "stdout",
     "output_type": "stream",
     "text": [
      "Файл с расширением: gif\n"
     ]
    }
   ],
   "source": [
    "#Задача 3\n",
    "#----------------------\n",
    "\n",
    "file = \"Моя дессертац.gif\"\n",
    "extensions = [\"png\", \"jpg\", \"jpeg\", \"gif\", \"svg\"]\n",
    "\n",
    "result = [i for i in extensions if file.find(i) > 0]\n",
    "print(f'Файл с расширением: {result[0]}')  "
   ]
  },
  {
   "cell_type": "code",
   "execution_count": 33,
   "id": "4b04ecd3",
   "metadata": {},
   "outputs": [
    {
     "name": "stdout",
     "output_type": "stream",
     "text": [
      "Введите год: 2021\n",
      "Год 2021 не високосный\n"
     ]
    }
   ],
   "source": [
    "#Задача 4\n",
    "#----------------------\n",
    "\n",
    "userInput = int(input(\"Введите год: \"))\n",
    "\n",
    "if userInput % 400 == 0:\n",
    "    print(f'Год {userInput} високосный')\n",
    "    \n",
    "elif userInput % 100 == 0:\n",
    "    print(f'Год {userInput} не високосный')\n",
    "    \n",
    "elif userInput % 4 == 0:\n",
    "    print(f'Год {userInput} високосный')\n",
    "    \n",
    "else:\n",
    "    print(f'Год {userInput} не високосный')"
   ]
  },
  {
   "cell_type": "code",
   "execution_count": null,
   "id": "3cd6e302",
   "metadata": {},
   "outputs": [],
   "source": []
  }
 ],
 "metadata": {
  "kernelspec": {
   "display_name": "Python 3 (ipykernel)",
   "language": "python",
   "name": "python3"
  },
  "language_info": {
   "codemirror_mode": {
    "name": "ipython",
    "version": 3
   },
   "file_extension": ".py",
   "mimetype": "text/x-python",
   "name": "python",
   "nbconvert_exporter": "python",
   "pygments_lexer": "ipython3",
   "version": "3.8.10"
  }
 },
 "nbformat": 4,
 "nbformat_minor": 5
}
