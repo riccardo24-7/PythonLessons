{
 "cells": [
  {
   "cell_type": "code",
   "execution_count": 6,
   "id": "e902515a",
   "metadata": {},
   "outputs": [],
   "source": [
    "#Задание 1\n",
    "#-----------------\n",
    "\n",
    "class Student(object):\n",
    "    'info-class about students in university'\n",
    "    def __init__(self, name = 'Ivan', age = 18, groupNumber = '10A'):\n",
    "        self.name = name\n",
    "        self.age = age\n",
    "        self.groupNumber = groupNumber\n",
    "    \n",
    "    def __str__ (self):\n",
    "        return 'Student {} (age: {}) in group: {}'.format(self.name, self.age, self.groupNumber)\n",
    "    \n",
    "    \n",
    "    def getName(self):\n",
    "        return self.name\n",
    "    \n",
    "    def getAge(self):\n",
    "        return self.age\n",
    "    \n",
    "    def getGroupNumber(self):\n",
    "        return self.groupNumber\n",
    "    \n",
    "    def setNameAge(self, name, age):\n",
    "        if (isinstance(name, str) and isinstance(age,int)):\n",
    "            self.name = name\n",
    "            self.age = age\n",
    "        else:\n",
    "            raise Exception('Error!\\nnot correct types of datas')\n",
    "            \n",
    "    def setGroupNumber(self, groupNumber):\n",
    "        if isinstance(groupNumber, str):\n",
    "            self.groupNumber = groupNumber\n",
    "        else:\n",
    "            raise Exception('Error!\\nnot correct types of data') \n",
    "              "
   ]
  },
  {
   "cell_type": "code",
   "execution_count": 7,
   "id": "af44548d",
   "metadata": {},
   "outputs": [],
   "source": [
    "Ivan = Student()\n",
    "Richard = Student('Richard', 21, 'MIST-21-2-4')\n",
    "Alina = Student()\n",
    "Joker = Student('Joker')\n",
    "Batman = Student(\"I'm Batman\", 35)"
   ]
  },
  {
   "cell_type": "code",
   "execution_count": 8,
   "id": "087caef6",
   "metadata": {},
   "outputs": [
    {
     "name": "stdout",
     "output_type": "stream",
     "text": [
      "Student Ivan (age: 18) in group: 10A\n",
      "Richard\n",
      "Student Alina (age: 22) in group: IBM-6\n",
      "MIST-228\n",
      "35\n"
     ]
    }
   ],
   "source": [
    "print(Ivan)\n",
    "\n",
    "print(Richard.getName())\n",
    "\n",
    "Alina.setNameAge('Alina', 22)\n",
    "Alina.setGroupNumber('IBM-6')\n",
    "print(Alina)\n",
    "\n",
    "Joker.setGroupNumber(\"MIST-228\")\n",
    "print(Joker.getGroupNumber())\n",
    "\n",
    "print(Batman.getAge())"
   ]
  },
  {
   "cell_type": "code",
   "execution_count": 25,
   "id": "8e525c32",
   "metadata": {},
   "outputs": [],
   "source": [
    "#Задание 2\n",
    "#-----------------\n",
    "\n",
    "class Car(object):\n",
    "    'kinds of cars'\n",
    "    \n",
    "    def __init__(self, typeCar = 'unknown', color='black', year = 2015, isStarted = False):\n",
    "        self.typeCar = typeCar\n",
    "        self.color = color\n",
    "        self.year = year\n",
    "        self.isStarted = isStarted\n",
    "        \n",
    "    def __str__(self):\n",
    "         return 'Автомобиль {} {} года выпуска, цвет {}'.format(self.typeCar, self.year, self.color)\n",
    "        \n",
    "    def carTurnOn(self): \n",
    "        if self.isStarted:\n",
    "            return 'Автомобиль уже заведен, не ломай'\n",
    "        else:\n",
    "            self.isStarted = True\n",
    "            return 'Автомобиль заведен'\n",
    "        \n",
    "    def carTurnOff(self):\n",
    "        if self.isStarted:\n",
    "            self.isStarted = False\n",
    "            return 'Автомобиль заглушен'\n",
    "        else:\n",
    "            return 'Прекрати ломать автомобиль, он заглушен уже'\n",
    "        \n",
    "    def setYear(self, year):\n",
    "        if isinstance(year, int):\n",
    "            self.year = year\n",
    "        else:\n",
    "            raise Exception('Error!\\nnot correct types of data')\n",
    "            \n",
    "    def setTypeCar(self, typeCar):\n",
    "        if isinstance(typeCar, str):\n",
    "            self.typeCar = typeCar\n",
    "        else:\n",
    "            raise Exception('Error!\\nnot correct types of data')\n",
    "\n",
    "    def setColor(self, color):\n",
    "        if isinstance(color, str):\n",
    "            self.color = color\n",
    "        else:\n",
    "            raise Exception('Error!\\nnot correct types of data')\n",
    "    "
   ]
  },
  {
   "cell_type": "code",
   "execution_count": 26,
   "id": "e84c282c",
   "metadata": {},
   "outputs": [],
   "source": [
    "Volvo = Car()\n",
    "Skoda = Car(\"Skoda\", \"white\", 2014)\n",
    "Nissan = Car(\"Nissan\")\n",
    "Porshe = Car(\"Porshe\", \"brown\")"
   ]
  },
  {
   "cell_type": "code",
   "execution_count": 27,
   "id": "379249d5",
   "metadata": {},
   "outputs": [
    {
     "name": "stdout",
     "output_type": "stream",
     "text": [
      "Автомобиль Volve 2015 года выпуска, цвет Yellow\n",
      "Автомобиль заведен\n",
      "Автомобиль уже заведен, не ломай\n",
      "Автомобиль заглушен\n",
      "Прекрати ломать автомобиль, он заглушен уже\n",
      "Автомобиль заведен\n",
      "Прекрати ломать автомобиль, он заглушен уже\n",
      "Автомобиль Porshe 2020 года выпуска, цвет brown\n"
     ]
    }
   ],
   "source": [
    "Volvo.setTypeCar(\"Volve\")\n",
    "Volvo.setColor(\"Yellow\")\n",
    "print(Volvo)\n",
    "\n",
    "print(Skoda.carTurnOn())\n",
    "print(Skoda.carTurnOn())\n",
    "print(Skoda.carTurnOff())\n",
    "print(Skoda.carTurnOff())\n",
    "\n",
    "Nissan.setColor(\"orange\")\n",
    "print(Nissan.carTurnOn())\n",
    "\n",
    "Porshe.setYear(2020)\n",
    "print(Porshe.carTurnOff())\n",
    "print(Porshe)"
   ]
  },
  {
   "cell_type": "code",
   "execution_count": 34,
   "id": "ca57f31b",
   "metadata": {},
   "outputs": [],
   "source": [
    "#Задание 3\n",
    "#--------------------\n",
    "\n",
    "class NutritionInfo:\n",
    "    def __init__(self, proteins, carbs, fats):\n",
    "        self.proteins = proteins\n",
    "        self.carbs = carbs\n",
    "        self.fats = fats\n",
    "    \n",
    "    def __add__(self, other):\n",
    "        return NutritionInfo(self.proteins + other.proteins, self.carbs + other.carbs, self.fats + other.fats)\n",
    "    \n",
    "    def __mul__(self,other):\n",
    "        if isinstance(other, int):\n",
    "            return NutritionInfo(self.proteins*other, self.carbs*other, self.fats*other)\n",
    "        else:\n",
    "            return 'Something go wrong'\n",
    "    \n",
    "    def __str__(self):\n",
    "        return f\"Nutrition p {self.proteins}, c {self.carbs}, f {self.fats}\"\n",
    "        \n",
    "    def energy(self):\n",
    "        return int(self.fats * 9 + (self.carbs + self.proteins) * 4.2)\n"
   ]
  },
  {
   "cell_type": "code",
   "execution_count": 38,
   "id": "26667f13",
   "metadata": {},
   "outputs": [
    {
     "name": "stdout",
     "output_type": "stream",
     "text": [
      "Nutrition p 2, c 4, f 6\n",
      "Nutrition p 0, c 75, f 0\n",
      "Nutrition p 0, c 75, f 0\n"
     ]
    }
   ],
   "source": [
    "egg = NutritionInfo(1, 2, 3)\n",
    "pastila = NutritionInfo(1, 2, 3)\n",
    "tvorog_9 = NutritionInfo(18, 3, 9)\n",
    "apple = NutritionInfo(0, 25, 0)\n",
    "\n",
    "print(egg + pastila)\n",
    "print(apple + apple + apple)\n",
    "\n",
    "breakfast = apple*3\n",
    "print(breakfast)"
   ]
  }
 ],
 "metadata": {
  "kernelspec": {
   "display_name": "Python 3 (ipykernel)",
   "language": "python",
   "name": "python3"
  },
  "language_info": {
   "codemirror_mode": {
    "name": "ipython",
    "version": 3
   },
   "file_extension": ".py",
   "mimetype": "text/x-python",
   "name": "python",
   "nbconvert_exporter": "python",
   "pygments_lexer": "ipython3",
   "version": "3.8.10"
  }
 },
 "nbformat": 4,
 "nbformat_minor": 5
}
